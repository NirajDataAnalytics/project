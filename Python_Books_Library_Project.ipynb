{
  "cells": [
    {
      "cell_type": "markdown",
      "metadata": {
        "id": "view-in-github",
        "colab_type": "text"
      },
      "source": [
        "<a href=\"https://colab.research.google.com/github/NirajDataAnalytics/project/blob/main/Python_Books_Library_Project.ipynb\" target=\"_parent\"><img src=\"https://colab.research.google.com/assets/colab-badge.svg\" alt=\"Open In Colab\"/></a>"
      ]
    },
    {
      "cell_type": "markdown",
      "metadata": {
        "id": "FPnYd3Vfw3bG"
      },
      "source": [
        "Importing the module, Datetime\n",
        "And also the path where i am working('/content')"
      ]
    },
    {
      "cell_type": "code",
      "execution_count": 6,
      "metadata": {
        "id": "YRyHcrZSwceB",
        "colab": {
          "base_uri": "https://localhost:8080/",
          "height": 35
        },
        "outputId": "8fddcdd7-f657-460a-f1f1-2add977a3b13"
      },
      "outputs": [
        {
          "output_type": "execute_result",
          "data": {
            "text/plain": [
              "'/content'"
            ],
            "application/vnd.google.colaboratory.intrinsic+json": {
              "type": "string"
            }
          },
          "metadata": {},
          "execution_count": 6
        }
      ],
      "source": [
        "import datetime\n",
        "import os\n",
        "os.getcwd()"
      ]
    },
    {
      "cell_type": "code",
      "source": [
        "import psutil\n",
        "print('The CPU usage is: ', psutil.cpu_percent(4))"
      ],
      "metadata": {
        "colab": {
          "base_uri": "https://localhost:8080/"
        },
        "id": "SAnKMrB1EDnU",
        "outputId": "9cf86a47-4529-46bb-ea81-2399942dea65"
      },
      "execution_count": 7,
      "outputs": [
        {
          "output_type": "stream",
          "name": "stdout",
          "text": [
            "The CPU usage is:  23.1\n"
          ]
        }
      ]
    },
    {
      "cell_type": "code",
      "source": [
        "pip install guppy3"
      ],
      "metadata": {
        "colab": {
          "base_uri": "https://localhost:8080/"
        },
        "id": "vTWFQ915GHl2",
        "outputId": "47d7d67f-294e-4ac0-e780-bcff65350568"
      },
      "execution_count": 8,
      "outputs": [
        {
          "output_type": "stream",
          "name": "stdout",
          "text": [
            "Requirement already satisfied: guppy3 in /usr/local/lib/python3.10/dist-packages (3.1.4.post1)\n"
          ]
        }
      ]
    },
    {
      "cell_type": "code",
      "source": [
        "from guppy import hpy\n",
        "h=hpy()\n",
        "h.heap()"
      ],
      "metadata": {
        "colab": {
          "base_uri": "https://localhost:8080/"
        },
        "id": "JGem-JbZGLxC",
        "outputId": "f642b38a-aeed-4a56-8e18-babbc9a9224c"
      },
      "execution_count": 20,
      "outputs": [
        {
          "output_type": "execute_result",
          "data": {
            "text/plain": [
              "Partition of a set of 628399 objects. Total size = 71767509 bytes.\n",
              " Index  Count   %     Size   % Cumulative  % Kind (class / dict of class)\n",
              "     0 298993  48 28757092  40  28757092  40 str\n",
              "     1 107161  17  7826944  11  36584036  51 tuple\n",
              "     2  29418   5  5292228   7  41876264  58 types.CodeType\n",
              "     3  48599   8  4122916   6  45999180  64 bytes\n",
              "     4  27460   4  3954240   6  49953420  70 function\n",
              "     5   3600   1  3654680   5  53608100  75 type\n",
              "     6   9745   2  3404432   5  57012532  79 dict (no owner)\n",
              "     7   8172   1  2249248   3  59261780  83 list\n",
              "     8   1256   0  1902056   3  61163836  85 dict of module\n",
              "     9   3600   1  1860768   3  63024604  88 dict of type\n",
              "<1316 more rows. Type e.g. '_.more' to view.>"
            ]
          },
          "metadata": {},
          "execution_count": 20
        }
      ]
    },
    {
      "cell_type": "markdown",
      "metadata": {
        "id": "KvCgBd-3w14a"
      },
      "source": [
        "Class Created as per the object we required"
      ]
    },
    {
      "cell_type": "code",
      "execution_count": 19,
      "metadata": {
        "colab": {
          "base_uri": "https://localhost:8080/",
          "height": 1000
        },
        "id": "fanM1h8SxUi-",
        "outputId": "50742f54-dd38-44e9-8fcc-5e8a656f8606"
      },
      "outputs": [
        {
          "output_type": "stream",
          "name": "stdout",
          "text": [
            "*** MENU OF CHOICE***\n",
            "1) Show_books\n",
            "\n",
            "2) Issue_books\n",
            "\n",
            "3) Donate_books\n",
            "\n",
            "4) Return_books\n",
            "\n",
            "5) Press 'q' to exit\n",
            "\n",
            "Enter your choice (1/2/3/4): \n",
            "1\n",
            "-------------------------------------List of Books------------------------------------------\n",
            "Books ID \t\t Title\n",
            "--------------------------------------------------------------------------------------------\n",
            "100 \t\t Python Crash Course ---{ Available }\n",
            "\n",
            "101 \t\t Automate the Boring Stuff with Python ---{ Available }\n",
            "\n",
            "102 \t\t Fluent Python ---{ Available }\n",
            "\n",
            "103 \t\t Python for Data Analysis ---{ Available }\n",
            "\n",
            "104 \t\t Learning Python ---{ Available }\n",
            "\n",
            "105 \t\t Python Cookbook ---{ Available }\n",
            "\n",
            "106 \t\t Python Tricks ---{ Available }\n",
            "\n",
            "107 \t\t Effective Python ---{ Available }\n",
            "\n",
            "108 \t\t Think Python ---{ Available }\n",
            "\n",
            "109 \t\t Python Data Science Handbook ---{ Available }\n",
            "\n",
            "110 \t\t Learn Python the Hard Way ---{ Available }\n",
            "\n",
            "111 \t\t Python Pocket Reference ---{ Available }\n",
            "\n",
            "112 \t\t Head First Python ---{ Available }\n",
            "\n",
            "113 \t\t Python Machine Learning ---{ Available }\n",
            "\n",
            "114 \t\t Programming Python ---{ Available }\n",
            "\n",
            "115 \t\t Deep Learning with Python ---{ Available }\n",
            "\n",
            "116 \t\t Test-Driven Web Development with Python ---{ Available }\n",
            "\n",
            "117 \t\t Data Science from Scratch ---{ Available }\n",
            "\n",
            "118 \t\t Flask Web Development ---{ Available }\n",
            "\n",
            "119 \t\t Hands-On Machine Learning with Scikit-Learn and TensorFlow ---{ Available }\n",
            "\n",
            "120 \t\t Python for Kids ---{ Available }\n",
            "\n",
            "121 \t\t Python for Everybody ---{ Available }\n",
            "\n",
            "122 \t\t Introduction to Machine Learning with Python ---{ Available }\n",
            "\n",
            "123 \t\t Python Essential Reference (Developer's Library) ---{ Available }\n",
            "\n",
            "124 \t\t Introduction to Computation and Programming Using Python ---{ Available }\n",
            "\n",
            "125 \t\t Natural Language Processing with Python ---{ Available }\n",
            "\n",
            "126 \t\t Introducing Python ---{ Available }\n",
            "\n",
            "127 \t\t Python 3 Object-Oriented Programming(OPPs) ---{ Available }\n",
            "\n",
            "128 \t\t Problem Solving with Algorithms and Data Structures Using Python ---{ Available }\n",
            "\n",
            "129 \t\t The Quick Python Book ---{ Available }\n",
            "\n",
            "130 \t\t A Byte of Python ---{ Available }\n",
            "\n",
            "131 \t\t Dive Into Python ---{ Available }\n",
            "\n",
            "132 \t\t Web Scraping with Python ---{ Available }\n",
            "\n",
            "133 \t\t Black Hat Python ---{ Available }\n",
            "\n",
            "134 \t\t Cracking Codes with Python ---{ Available }\n",
            "\n",
            "135 \t\t Dive Into Python 3 ---{ Available }\n",
            "\n",
            "136 \t\t Violent Python ---{ Available }\n",
            "\n",
            "137 \t\t Beginning Python ---{ Available }\n",
            "\n",
            "138 \t\t Invent Your Own Computer Games with Python, 4e ---{ Available }\n",
            "\n",
            "139 \t\t Python Programming ---{ Available }\n",
            "\n",
            "140 \t\t High Performance Python ---{ Available }\n",
            "\n",
            "141 \t\t Python for Informatics ---{ Available }\n",
            "\n",
            "142 \t\t Core Python Programming ---{ Available }\n",
            "\n",
            "143 \t\t Python in a Nutshell ---{ Available }\n",
            "\n",
            "144 \t\t A Smarter Way to Learn Python ---{ Available }\n",
            "\n",
            "145 \t\t The Hitchhiker's Guide to Python ---{ Available }\n",
            "\n",
            "146 \t\t Grokking Algorithms An Illustrated Guide For Programmers and Other Curious People ---{ Available }\n",
            "\n",
            "147 \t\t Code ---{ Available }\n",
            "\n",
            "148 \t\t Clean Code ---{ Available }\n",
            "\n",
            "149 \t\t Learn Python 3 the Hard Way ---{ Available }\n",
            "\n",
            "150 \t\t Elements of Programming Interviews in Python ---{ Available }\n",
            "\n",
            "151 \t\t Programming Collective Intelligence ---{ Available }\n",
            "\n",
            "152 \t\t Building Machine Learning Systems with Python ---{ Available }\n",
            "\n",
            "153 \t\t Make Your Own Neural Network ---{ Available }\n",
            "\n",
            "154 \t\t Learn Python in One Day and Learn It Well (2nd Edition) ---{ Available }\n",
            "\n",
            "155 \t\t The Python Standard Library by Example ---{ Available }\n",
            "\n",
            "156 \t\t Two Scoops of Django ---{ Available }\n",
            "\n",
            "157 \t\t Doing Math with Python ---{ Available }\n",
            "\n",
            "158 \t\t The Hacker's Guide to Python ---{ Available }\n",
            "\n",
            "159 \t\t Python Playground ---{ Available }\n",
            "\n",
            "160 \t\t Two Scoops of Django ---{ Available }\n",
            "\n",
            "161 \t\t Rapid GUI Programming with Python and Qt ---{ Available }\n",
            "\n",
            "162 \t\t Python Testing with Pytest ---{ Available }\n",
            "\n",
            "163 \t\t Impractical Python Projects ---{ Available }\n",
            "\n",
            "164 \t\t Deep Learning ---{ Available }\n",
            "\n",
            "165 \t\t Hands-On Machine Learning with Scikit-Learn, Keras, and Tensorflow ---{ Available }\n",
            "\n",
            "166 \t\t Think Complexity ---{ Available }\n",
            "\n",
            "167 \t\t The Self-Taught Programmer ---{ Available }\n",
            "\n",
            "168 \t\t Core Python Applications Programming ---{ Available }\n",
            "\n",
            "169 \t\t Effective Python ---{ Available }\n",
            "\n",
            "170 \t\t The Complete Monty Python's Flying Circus: All the Words ---{ Available }\n",
            "\n",
            "171 \t\t Classic Computer Science Problems in Python ---{ Available }\n",
            "\n",
            "172 \t\t Starting Out with Python [With CDROM] ---{ Available }\n",
            "\n",
            "173 \t\t Data Structures and Algorithms in Python ---{ Available }\n",
            "\n",
            "174 \t\t Hacking Secret Ciphers with Python ---{ Available }\n",
            "\n",
            "175 \t\t How to Make Mistakes in Python ---{ Available }\n",
            "\n",
            "176 \t\t The Hundred-Page Machine Learning Book ---{ Available }\n",
            "\n",
            "177 \t\t The Complete Monty Python's Flying Circus ---{ Available }\n",
            "\n",
            "178 \t\t Python in easy steps ---{ Available }\n",
            "\n",
            "179 \t\t Python for Finance ---{ Available }\n",
            "\n",
            "180 \t\t Cython ---{ Available }\n",
            "\n",
            "181 \t\t Architecture Patterns with Python ---{ Available }\n",
            "\n",
            "182 \t\t Mastering Object-Oriented Python ---{ Available }\n",
            "\n",
            "183 \t\t Foundations of Python Network Programming ---{ Available }\n",
            "\n",
            "-*-*-*-*-*-*-*-*-*-*---WELCOME IN PBL---*-*-*-*-*-*-*-*-*-*\n",
            "\n",
            "Thanks for Chosing the Options\n",
            "*** MENU OF CHOICE***\n",
            "1) Show_books\n",
            "\n",
            "2) Issue_books\n",
            "\n",
            "3) Donate_books\n",
            "\n",
            "4) Return_books\n",
            "\n",
            "5) Press 'q' to exit\n",
            "\n"
          ]
        },
        {
          "output_type": "error",
          "ename": "KeyboardInterrupt",
          "evalue": "Interrupted by user",
          "traceback": [
            "\u001b[0;31m---------------------------------------------------------------------------\u001b[0m",
            "\u001b[0;31mKeyboardInterrupt\u001b[0m                         Traceback (most recent call last)",
            "\u001b[0;32m<ipython-input-19-5a4741e917cf>\u001b[0m in \u001b[0;36m<cell line: 103>\u001b[0;34m()\u001b[0m\n\u001b[1;32m    108\u001b[0m     \u001b[0mprint\u001b[0m\u001b[0;34m(\u001b[0m\u001b[0;34m\"4) Return_books\\n\"\u001b[0m\u001b[0;34m)\u001b[0m\u001b[0;34m\u001b[0m\u001b[0;34m\u001b[0m\u001b[0m\n\u001b[1;32m    109\u001b[0m     \u001b[0mprint\u001b[0m\u001b[0;34m(\u001b[0m\u001b[0;34m\"5) Press 'q' to exit\\n\"\u001b[0m\u001b[0;34m)\u001b[0m\u001b[0;34m\u001b[0m\u001b[0;34m\u001b[0m\u001b[0m\n\u001b[0;32m--> 110\u001b[0;31m     \u001b[0mchoice\u001b[0m \u001b[0;34m=\u001b[0m \u001b[0minput\u001b[0m\u001b[0;34m(\u001b[0m\u001b[0;34m\"Enter your choice (1/2/3/4): \\n\"\u001b[0m\u001b[0;34m)\u001b[0m\u001b[0;34m\u001b[0m\u001b[0;34m\u001b[0m\u001b[0m\n\u001b[0m\u001b[1;32m    111\u001b[0m     \u001b[0;32mif\u001b[0m \u001b[0mchoice\u001b[0m \u001b[0;34m==\u001b[0m \u001b[0;34m\"1\"\u001b[0m\u001b[0;34m:\u001b[0m\u001b[0;34m\u001b[0m\u001b[0;34m\u001b[0m\u001b[0m\n\u001b[1;32m    112\u001b[0m         \u001b[0mmyPBL\u001b[0m\u001b[0;34m.\u001b[0m\u001b[0mshow_books\u001b[0m\u001b[0;34m(\u001b[0m\u001b[0;34m)\u001b[0m\u001b[0;34m\u001b[0m\u001b[0;34m\u001b[0m\u001b[0m\n",
            "\u001b[0;32m/usr/local/lib/python3.10/dist-packages/ipykernel/kernelbase.py\u001b[0m in \u001b[0;36mraw_input\u001b[0;34m(self, prompt)\u001b[0m\n\u001b[1;32m    849\u001b[0m                 \u001b[0;34m\"raw_input was called, but this frontend does not support input requests.\"\u001b[0m\u001b[0;34m\u001b[0m\u001b[0;34m\u001b[0m\u001b[0m\n\u001b[1;32m    850\u001b[0m             )\n\u001b[0;32m--> 851\u001b[0;31m         return self._input_request(str(prompt),\n\u001b[0m\u001b[1;32m    852\u001b[0m             \u001b[0mself\u001b[0m\u001b[0;34m.\u001b[0m\u001b[0m_parent_ident\u001b[0m\u001b[0;34m,\u001b[0m\u001b[0;34m\u001b[0m\u001b[0;34m\u001b[0m\u001b[0m\n\u001b[1;32m    853\u001b[0m             \u001b[0mself\u001b[0m\u001b[0;34m.\u001b[0m\u001b[0m_parent_header\u001b[0m\u001b[0;34m,\u001b[0m\u001b[0;34m\u001b[0m\u001b[0;34m\u001b[0m\u001b[0m\n",
            "\u001b[0;32m/usr/local/lib/python3.10/dist-packages/ipykernel/kernelbase.py\u001b[0m in \u001b[0;36m_input_request\u001b[0;34m(self, prompt, ident, parent, password)\u001b[0m\n\u001b[1;32m    893\u001b[0m             \u001b[0;32mexcept\u001b[0m \u001b[0mKeyboardInterrupt\u001b[0m\u001b[0;34m:\u001b[0m\u001b[0;34m\u001b[0m\u001b[0;34m\u001b[0m\u001b[0m\n\u001b[1;32m    894\u001b[0m                 \u001b[0;31m# re-raise KeyboardInterrupt, to truncate traceback\u001b[0m\u001b[0;34m\u001b[0m\u001b[0;34m\u001b[0m\u001b[0m\n\u001b[0;32m--> 895\u001b[0;31m                 \u001b[0;32mraise\u001b[0m \u001b[0mKeyboardInterrupt\u001b[0m\u001b[0;34m(\u001b[0m\u001b[0;34m\"Interrupted by user\"\u001b[0m\u001b[0;34m)\u001b[0m \u001b[0;32mfrom\u001b[0m \u001b[0;32mNone\u001b[0m\u001b[0;34m\u001b[0m\u001b[0;34m\u001b[0m\u001b[0m\n\u001b[0m\u001b[1;32m    896\u001b[0m             \u001b[0;32mexcept\u001b[0m \u001b[0mException\u001b[0m \u001b[0;32mas\u001b[0m \u001b[0me\u001b[0m\u001b[0;34m:\u001b[0m\u001b[0;34m\u001b[0m\u001b[0;34m\u001b[0m\u001b[0m\n\u001b[1;32m    897\u001b[0m                 \u001b[0mself\u001b[0m\u001b[0;34m.\u001b[0m\u001b[0mlog\u001b[0m\u001b[0;34m.\u001b[0m\u001b[0mwarning\u001b[0m\u001b[0;34m(\u001b[0m\u001b[0;34m\"Invalid Message:\"\u001b[0m\u001b[0;34m,\u001b[0m \u001b[0mexc_info\u001b[0m\u001b[0;34m=\u001b[0m\u001b[0;32mTrue\u001b[0m\u001b[0;34m)\u001b[0m\u001b[0;34m\u001b[0m\u001b[0;34m\u001b[0m\u001b[0m\n",
            "\u001b[0;31mKeyboardInterrupt\u001b[0m: Interrupted by user"
          ]
        }
      ],
      "source": [
        "class PBL:\n",
        "  ''' This Python Books Library(PBL) class will have four modules:-\n",
        "     1. Show the books list- It will display or show the books how many types of books are there in the Python Book\n",
        "        library, and status of the books\n",
        "     2. Issue the books- It will give the name of the lender, date, time, books name\n",
        "     3. Returns the books- It will give the name of the person who is returing the book, date, time, books name\n",
        "     4. Donate books- If any one wants to donate books in the Python Book library it can be created'''\n",
        "\n",
        "  def __init__(self, Books_List, Library_Name):\n",
        "      self.Books_List= \"New_Books_List.txt\"\n",
        "      self.Library_Name= Library_Name\n",
        "      self.books_dictionary={} # I will create a dictionary showing the books name, lenders name, status of the books\n",
        "      ID= 100 # Starting ID as 100\n",
        "      with open('/New_Books_List.txt','r') as f: # Content Manager -Open the file in read mode or say display or show\n",
        "       g= f.readlines()\n",
        "      for line in g:\n",
        "        #print(line)\n",
        "        self.books_dictionary.update({str(ID): {'Books_Title':line.replace('\\n',''),\n",
        "        'lender_name':'','Issue_Date':'',\n",
        "        'Status':'Available'}})\n",
        "        ID=ID+1\n",
        "\n",
        "\n",
        "#Books_List= PBL(\"New_Books_List.txt\", \"Python Books Library\")\n",
        "#print(Books_List)\n",
        "  def decor(fun):\n",
        "    def inner(self):\n",
        "      fun(self)\n",
        "      print('-*-*-*-*-*-*-*-*-*-*---WELCOME IN PBL---*-*-*-*-*-*-*-*-*-*\\n')\n",
        "      print('Thanks for Chosing the Options')\n",
        "    return inner\n",
        "  @decor\n",
        "  def show_books(self):\n",
        "      print(\"-------------------------------------List of Books------------------------------------------\")\n",
        "      print(\"Books ID\",\"\\t\\t\", \"Title\")\n",
        "      print(\"--------------------------------------------------------------------------------------------\")\n",
        "      for key, value in self.books_dictionary.items():\n",
        "        print(key,\"\\t\\t\", value.get('Books_Title'),\"---{\", value.get('Status'),\"}\\n\")\n",
        "\n",
        "#Books_List_Show= PBL(\"New_Books_List.txt\", \"Python Books Library\")\n",
        "#print(Books_List_Show.show_books())\n",
        "  @decor\n",
        "  def Issue_books(self):\n",
        "      books_id = (input(\"Enter Books ID : \"))\n",
        "      current_date = datetime.datetime.now().strftime(\"%Y-%m-%d, %H:%M:%S %p\")\n",
        "      if books_id in self.books_dictionary.keys():\n",
        "          if not self.books_dictionary[books_id]['Status'] == 'Available':\n",
        "              print(f\"This book is already issued to {self.books_dictionary[books_id]['lender_name']}\\\n",
        "              on {self.books_dictionary[books_id]['Issue_Date']}\")\n",
        "              return self.Issue_books()\n",
        "          elif self.books_dictionary[books_id]['Status'] == 'Available':\n",
        "              Your_name = input(\"Enter Your Name : \")\n",
        "              self.books_dictionary[books_id]['lender_name'] = Your_name\n",
        "              self.books_dictionary[books_id]['Issue_Date'] = current_date\n",
        "              self.books_dictionary[books_id]['Status']= 'Already Issued'\n",
        "              print(\"Books issued sucessfully !\\n\")\n",
        "      else:\n",
        "          print(\"Book ID Not Found !!!\")\n",
        "          #return self.Issue_books()\n",
        "\n",
        "#Books_Issue= PBL(\"New_Books_List.txt\", \"Python Books Library\")\n",
        "#print(Books_Issue.Issue_books())\n",
        "  @decor\n",
        "  def donate_books(self):\n",
        "        new_books = input(\"Enter Books Title : \")\n",
        "        if new_books == \"\":\n",
        "            return self.donate_books()\n",
        "        elif len(new_books) > 50:\n",
        "            print(\"Books title characters is long!!! Restrict to 30 characters\")\n",
        "            return self.donate_books()\n",
        "\n",
        "        else:\n",
        "            with open(self.Books_List, 'a') as b:\n",
        "              b.writelines(f\"{new_books}\\n\")\n",
        "              self.books_dictionary.update({str(int(max(self.books_dictionary))+1):\n",
        "              {'books_title': new_books,'lender_name': \"\",'Issue_Date': \"\", 'Status': \"Available\"}})\n",
        "              print(f\"The books '{new_books}' has been added successfully !!!\")\n",
        "\n",
        "#Books_Donate= PBL(\"New_Books_List.txt\", \"Python Books Library\")\n",
        "#print(Books_Donate.donate_books())\n",
        "  @decor\n",
        "  def Return_books(self):\n",
        "        books_id=(input(\"Enter Book ID: \"))\n",
        "        if books_id in self.books_dictionary.keys():\n",
        "            if self.books_dictionary[books_id]['Status']==\"Available\":\n",
        "               print(\"This Book is already available in the library, please enter exact book_id\")\n",
        "               return self.Return_books()\n",
        "\n",
        "            elif not self.books_dictionary[books_id]['Status']=='Available':\n",
        "                  self.books_dictionary[books_id]['lender_name']= \"\"\n",
        "                  self.books_dictionary[books_id]['Issue_Date']=\"\"\n",
        "                  self.books_dictionary[books_id]['Status']='Available'\n",
        "                  print(\"Sucessfully Returned the book\\n\")\n",
        "\n",
        "        else:\n",
        "            print(\"Books Id is not Found!\")\n",
        "\n",
        "#Books_Return= PBL(\"New_Books_List.txt\", \"Python Books Library\")\n",
        "#print(Books_Return.Return_books())\n",
        "\n",
        "myPBL= PBL(\"New_Books_List.txt\", \"Python Books Library\")\n",
        "\n",
        "while True:\n",
        "    print(\"*** MENU OF CHOICE***\")\n",
        "    print(\"1) Show_books\\n\")\n",
        "    print(\"2) Issue_books\\n\")\n",
        "    print(\"3) Donate_books\\n\")\n",
        "    print(\"4) Return_books\\n\")\n",
        "    print(\"5) Press 'q' to exit\\n\")\n",
        "    choice = input(\"Enter your choice (1/2/3/4): \\n\")\n",
        "    if choice == \"1\":\n",
        "        myPBL.show_books()\n",
        "    elif choice == \"2\":\n",
        "        myPBL.Issue_books()\n",
        "    elif choice == \"3\":\n",
        "        myPBL.donate_books()\n",
        "    elif choice ==\"4\":\n",
        "        myPBL.Return_books()\n",
        "    elif choice ==\"q\":\n",
        "       break\n",
        "    else:\n",
        "       print(\"Invalid choice. Please enter 1, 2, 3, 4, or q.\")\n",
        "\n",
        ""
      ]
    }
  ],
  "metadata": {
    "colab": {
      "provenance": [],
      "authorship_tag": "ABX9TyPxTwTUzse1cgZdi6SWzjNa",
      "include_colab_link": true
    },
    "kernelspec": {
      "display_name": "Python 3",
      "name": "python3"
    },
    "language_info": {
      "name": "python"
    }
  },
  "nbformat": 4,
  "nbformat_minor": 0
}